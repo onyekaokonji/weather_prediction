{
 "cells": [
  {
   "cell_type": "code",
   "execution_count": 1,
   "id": "99d71c97",
   "metadata": {},
   "outputs": [],
   "source": [
    "import pandas as pd\n",
    "from prophet import Prophet\n",
    "import matplotlib.pyplot as plt"
   ]
  },
  {
   "cell_type": "code",
   "execution_count": 2,
   "id": "9effd6eb",
   "metadata": {},
   "outputs": [],
   "source": [
    "ta = pd.read_csv(\"Tel_Aviv.csv\")"
   ]
  },
  {
   "cell_type": "code",
   "execution_count": 3,
   "id": "34db5f6d",
   "metadata": {},
   "outputs": [
    {
     "data": {
      "text/html": [
       "<div>\n",
       "<style scoped>\n",
       "    .dataframe tbody tr th:only-of-type {\n",
       "        vertical-align: middle;\n",
       "    }\n",
       "\n",
       "    .dataframe tbody tr th {\n",
       "        vertical-align: top;\n",
       "    }\n",
       "\n",
       "    .dataframe thead th {\n",
       "        text-align: right;\n",
       "    }\n",
       "</style>\n",
       "<table border=\"1\" class=\"dataframe\">\n",
       "  <thead>\n",
       "    <tr style=\"text-align: right;\">\n",
       "      <th></th>\n",
       "      <th>datetime</th>\n",
       "      <th>pressure</th>\n",
       "      <th>humidity</th>\n",
       "      <th>temperature</th>\n",
       "      <th>weather</th>\n",
       "      <th>wind direction</th>\n",
       "      <th>wind speed</th>\n",
       "    </tr>\n",
       "  </thead>\n",
       "  <tbody>\n",
       "    <tr>\n",
       "      <th>0</th>\n",
       "      <td>2012-10-01 12:00:00</td>\n",
       "      <td>NaN</td>\n",
       "      <td>NaN</td>\n",
       "      <td>NaN</td>\n",
       "      <td>sky is not clear</td>\n",
       "      <td>NaN</td>\n",
       "      <td>NaN</td>\n",
       "    </tr>\n",
       "    <tr>\n",
       "      <th>1</th>\n",
       "      <td>2012-10-01 13:00:00</td>\n",
       "      <td>1012.0</td>\n",
       "      <td>63.0</td>\n",
       "      <td>305.470000</td>\n",
       "      <td>sky is clear</td>\n",
       "      <td>0.0</td>\n",
       "      <td>0.0</td>\n",
       "    </tr>\n",
       "    <tr>\n",
       "      <th>2</th>\n",
       "      <td>2012-10-01 14:00:00</td>\n",
       "      <td>1012.0</td>\n",
       "      <td>62.0</td>\n",
       "      <td>304.310000</td>\n",
       "      <td>sky is clear</td>\n",
       "      <td>0.0</td>\n",
       "      <td>0.0</td>\n",
       "    </tr>\n",
       "    <tr>\n",
       "      <th>3</th>\n",
       "      <td>2012-10-01 15:00:00</td>\n",
       "      <td>1012.0</td>\n",
       "      <td>62.0</td>\n",
       "      <td>304.281841</td>\n",
       "      <td>sky is clear</td>\n",
       "      <td>0.0</td>\n",
       "      <td>0.0</td>\n",
       "    </tr>\n",
       "    <tr>\n",
       "      <th>4</th>\n",
       "      <td>2012-10-01 16:00:00</td>\n",
       "      <td>1012.0</td>\n",
       "      <td>62.0</td>\n",
       "      <td>304.238015</td>\n",
       "      <td>sky is clear</td>\n",
       "      <td>0.0</td>\n",
       "      <td>0.0</td>\n",
       "    </tr>\n",
       "    <tr>\n",
       "      <th>5</th>\n",
       "      <td>2012-10-01 17:00:00</td>\n",
       "      <td>1012.0</td>\n",
       "      <td>62.0</td>\n",
       "      <td>304.194188</td>\n",
       "      <td>sky is clear</td>\n",
       "      <td>0.0</td>\n",
       "      <td>0.0</td>\n",
       "    </tr>\n",
       "    <tr>\n",
       "      <th>6</th>\n",
       "      <td>2012-10-01 18:00:00</td>\n",
       "      <td>1012.0</td>\n",
       "      <td>63.0</td>\n",
       "      <td>304.150361</td>\n",
       "      <td>sky is clear</td>\n",
       "      <td>0.0</td>\n",
       "      <td>0.0</td>\n",
       "    </tr>\n",
       "    <tr>\n",
       "      <th>7</th>\n",
       "      <td>2012-10-01 19:00:00</td>\n",
       "      <td>1012.0</td>\n",
       "      <td>63.0</td>\n",
       "      <td>304.106534</td>\n",
       "      <td>sky is clear</td>\n",
       "      <td>0.0</td>\n",
       "      <td>1.0</td>\n",
       "    </tr>\n",
       "    <tr>\n",
       "      <th>8</th>\n",
       "      <td>2012-10-01 20:00:00</td>\n",
       "      <td>1012.0</td>\n",
       "      <td>63.0</td>\n",
       "      <td>304.062708</td>\n",
       "      <td>sky is clear</td>\n",
       "      <td>0.0</td>\n",
       "      <td>1.0</td>\n",
       "    </tr>\n",
       "    <tr>\n",
       "      <th>9</th>\n",
       "      <td>2012-10-01 21:00:00</td>\n",
       "      <td>1012.0</td>\n",
       "      <td>64.0</td>\n",
       "      <td>304.018881</td>\n",
       "      <td>sky is clear</td>\n",
       "      <td>0.0</td>\n",
       "      <td>1.0</td>\n",
       "    </tr>\n",
       "  </tbody>\n",
       "</table>\n",
       "</div>"
      ],
      "text/plain": [
       "              datetime  pressure  humidity  temperature           weather  \\\n",
       "0  2012-10-01 12:00:00       NaN       NaN          NaN  sky is not clear   \n",
       "1  2012-10-01 13:00:00    1012.0      63.0   305.470000      sky is clear   \n",
       "2  2012-10-01 14:00:00    1012.0      62.0   304.310000      sky is clear   \n",
       "3  2012-10-01 15:00:00    1012.0      62.0   304.281841      sky is clear   \n",
       "4  2012-10-01 16:00:00    1012.0      62.0   304.238015      sky is clear   \n",
       "5  2012-10-01 17:00:00    1012.0      62.0   304.194188      sky is clear   \n",
       "6  2012-10-01 18:00:00    1012.0      63.0   304.150361      sky is clear   \n",
       "7  2012-10-01 19:00:00    1012.0      63.0   304.106534      sky is clear   \n",
       "8  2012-10-01 20:00:00    1012.0      63.0   304.062708      sky is clear   \n",
       "9  2012-10-01 21:00:00    1012.0      64.0   304.018881      sky is clear   \n",
       "\n",
       "   wind direction  wind speed  \n",
       "0             NaN         NaN  \n",
       "1             0.0         0.0  \n",
       "2             0.0         0.0  \n",
       "3             0.0         0.0  \n",
       "4             0.0         0.0  \n",
       "5             0.0         0.0  \n",
       "6             0.0         0.0  \n",
       "7             0.0         1.0  \n",
       "8             0.0         1.0  \n",
       "9             0.0         1.0  "
      ]
     },
     "execution_count": 3,
     "metadata": {},
     "output_type": "execute_result"
    }
   ],
   "source": [
    "ta.head(10)"
   ]
  },
  {
   "cell_type": "code",
   "execution_count": 4,
   "id": "f7118a87",
   "metadata": {},
   "outputs": [],
   "source": [
    "ta.drop(['pressure', 'wind direction', 'weather', 'humidity', 'wind speed'], axis = 1, inplace = True)"
   ]
  },
  {
   "cell_type": "code",
   "execution_count": 5,
   "id": "a5a459fa",
   "metadata": {},
   "outputs": [
    {
     "data": {
      "text/html": [
       "<div>\n",
       "<style scoped>\n",
       "    .dataframe tbody tr th:only-of-type {\n",
       "        vertical-align: middle;\n",
       "    }\n",
       "\n",
       "    .dataframe tbody tr th {\n",
       "        vertical-align: top;\n",
       "    }\n",
       "\n",
       "    .dataframe thead th {\n",
       "        text-align: right;\n",
       "    }\n",
       "</style>\n",
       "<table border=\"1\" class=\"dataframe\">\n",
       "  <thead>\n",
       "    <tr style=\"text-align: right;\">\n",
       "      <th></th>\n",
       "      <th>ds</th>\n",
       "      <th>y</th>\n",
       "    </tr>\n",
       "  </thead>\n",
       "  <tbody>\n",
       "    <tr>\n",
       "      <th>0</th>\n",
       "      <td>2012-10-01 12:00:00</td>\n",
       "      <td>NaN</td>\n",
       "    </tr>\n",
       "    <tr>\n",
       "      <th>1</th>\n",
       "      <td>2012-10-01 13:00:00</td>\n",
       "      <td>305.470000</td>\n",
       "    </tr>\n",
       "    <tr>\n",
       "      <th>2</th>\n",
       "      <td>2012-10-01 14:00:00</td>\n",
       "      <td>304.310000</td>\n",
       "    </tr>\n",
       "    <tr>\n",
       "      <th>3</th>\n",
       "      <td>2012-10-01 15:00:00</td>\n",
       "      <td>304.281841</td>\n",
       "    </tr>\n",
       "    <tr>\n",
       "      <th>4</th>\n",
       "      <td>2012-10-01 16:00:00</td>\n",
       "      <td>304.238015</td>\n",
       "    </tr>\n",
       "  </tbody>\n",
       "</table>\n",
       "</div>"
      ],
      "text/plain": [
       "                    ds           y\n",
       "0  2012-10-01 12:00:00         NaN\n",
       "1  2012-10-01 13:00:00  305.470000\n",
       "2  2012-10-01 14:00:00  304.310000\n",
       "3  2012-10-01 15:00:00  304.281841\n",
       "4  2012-10-01 16:00:00  304.238015"
      ]
     },
     "execution_count": 5,
     "metadata": {},
     "output_type": "execute_result"
    }
   ],
   "source": [
    "ta.rename(columns = {'datetime': 'ds', 'temperature': 'y'}, inplace = True)\n",
    "ta.head()"
   ]
  },
  {
   "cell_type": "code",
   "execution_count": 6,
   "id": "f40b09f4",
   "metadata": {},
   "outputs": [
    {
     "data": {
      "text/html": [
       "<div>\n",
       "<style scoped>\n",
       "    .dataframe tbody tr th:only-of-type {\n",
       "        vertical-align: middle;\n",
       "    }\n",
       "\n",
       "    .dataframe tbody tr th {\n",
       "        vertical-align: top;\n",
       "    }\n",
       "\n",
       "    .dataframe thead th {\n",
       "        text-align: right;\n",
       "    }\n",
       "</style>\n",
       "<table border=\"1\" class=\"dataframe\">\n",
       "  <thead>\n",
       "    <tr style=\"text-align: right;\">\n",
       "      <th></th>\n",
       "      <th>ds</th>\n",
       "      <th>y</th>\n",
       "    </tr>\n",
       "  </thead>\n",
       "  <tbody>\n",
       "    <tr>\n",
       "      <th>45248</th>\n",
       "      <td>2017-11-29 20:00:00</td>\n",
       "      <td>NaN</td>\n",
       "    </tr>\n",
       "    <tr>\n",
       "      <th>45249</th>\n",
       "      <td>2017-11-29 21:00:00</td>\n",
       "      <td>NaN</td>\n",
       "    </tr>\n",
       "    <tr>\n",
       "      <th>45250</th>\n",
       "      <td>2017-11-29 22:00:00</td>\n",
       "      <td>NaN</td>\n",
       "    </tr>\n",
       "    <tr>\n",
       "      <th>45251</th>\n",
       "      <td>2017-11-29 23:00:00</td>\n",
       "      <td>NaN</td>\n",
       "    </tr>\n",
       "    <tr>\n",
       "      <th>45252</th>\n",
       "      <td>2017-11-30 00:00:00</td>\n",
       "      <td>NaN</td>\n",
       "    </tr>\n",
       "  </tbody>\n",
       "</table>\n",
       "</div>"
      ],
      "text/plain": [
       "                        ds   y\n",
       "45248  2017-11-29 20:00:00 NaN\n",
       "45249  2017-11-29 21:00:00 NaN\n",
       "45250  2017-11-29 22:00:00 NaN\n",
       "45251  2017-11-29 23:00:00 NaN\n",
       "45252  2017-11-30 00:00:00 NaN"
      ]
     },
     "execution_count": 6,
     "metadata": {},
     "output_type": "execute_result"
    }
   ],
   "source": [
    "ta.tail()"
   ]
  },
  {
   "cell_type": "code",
   "execution_count": 7,
   "id": "23b450ad",
   "metadata": {},
   "outputs": [],
   "source": [
    "ta['ds'] = pd.to_datetime(ta['ds'])"
   ]
  },
  {
   "cell_type": "code",
   "execution_count": 8,
   "id": "76a44ecb",
   "metadata": {},
   "outputs": [
    {
     "data": {
      "text/html": [
       "<div>\n",
       "<style scoped>\n",
       "    .dataframe tbody tr th:only-of-type {\n",
       "        vertical-align: middle;\n",
       "    }\n",
       "\n",
       "    .dataframe tbody tr th {\n",
       "        vertical-align: top;\n",
       "    }\n",
       "\n",
       "    .dataframe thead th {\n",
       "        text-align: right;\n",
       "    }\n",
       "</style>\n",
       "<table border=\"1\" class=\"dataframe\">\n",
       "  <thead>\n",
       "    <tr style=\"text-align: right;\">\n",
       "      <th></th>\n",
       "      <th>ds</th>\n",
       "      <th>y</th>\n",
       "    </tr>\n",
       "  </thead>\n",
       "  <tbody>\n",
       "    <tr>\n",
       "      <th>0</th>\n",
       "      <td>2012-10-01 12:00:00</td>\n",
       "      <td>NaN</td>\n",
       "    </tr>\n",
       "    <tr>\n",
       "      <th>1</th>\n",
       "      <td>2012-10-01 13:00:00</td>\n",
       "      <td>305.470000</td>\n",
       "    </tr>\n",
       "    <tr>\n",
       "      <th>2</th>\n",
       "      <td>2012-10-01 14:00:00</td>\n",
       "      <td>304.310000</td>\n",
       "    </tr>\n",
       "    <tr>\n",
       "      <th>3</th>\n",
       "      <td>2012-10-01 15:00:00</td>\n",
       "      <td>304.281841</td>\n",
       "    </tr>\n",
       "    <tr>\n",
       "      <th>4</th>\n",
       "      <td>2012-10-01 16:00:00</td>\n",
       "      <td>304.238015</td>\n",
       "    </tr>\n",
       "  </tbody>\n",
       "</table>\n",
       "</div>"
      ],
      "text/plain": [
       "                   ds           y\n",
       "0 2012-10-01 12:00:00         NaN\n",
       "1 2012-10-01 13:00:00  305.470000\n",
       "2 2012-10-01 14:00:00  304.310000\n",
       "3 2012-10-01 15:00:00  304.281841\n",
       "4 2012-10-01 16:00:00  304.238015"
      ]
     },
     "execution_count": 8,
     "metadata": {},
     "output_type": "execute_result"
    }
   ],
   "source": [
    "ta.head()"
   ]
  },
  {
   "cell_type": "code",
   "execution_count": 9,
   "id": "e6dbfa58",
   "metadata": {},
   "outputs": [
    {
     "data": {
      "text/plain": [
       "Index(['ds', 'y'], dtype='object')"
      ]
     },
     "execution_count": 9,
     "metadata": {},
     "output_type": "execute_result"
    }
   ],
   "source": [
    "ta.columns"
   ]
  },
  {
   "cell_type": "code",
   "execution_count": 10,
   "id": "e892f205",
   "metadata": {},
   "outputs": [
    {
     "name": "stdout",
     "output_type": "stream",
     "text": [
      "Initial log joint probability = -21.0796\n"
     ]
    },
    {
     "data": {
      "text/plain": [
       "<prophet.forecaster.Prophet at 0x7fdd1b6e1a60>"
      ]
     },
     "execution_count": 10,
     "metadata": {},
     "output_type": "execute_result"
    },
    {
     "name": "stdout",
     "output_type": "stream",
     "text": [
      "    Iter      log prob        ||dx||      ||grad||       alpha      alpha0  # evals  Notes \n",
      "      99        190380    0.00122157       41899.5       0.917       0.917      131   \n",
      "    Iter      log prob        ||dx||      ||grad||       alpha      alpha0  # evals  Notes \n",
      "     199        191045    0.00687916        102710           1           1      241   \n",
      "    Iter      log prob        ||dx||      ||grad||       alpha      alpha0  # evals  Notes \n",
      "     299        191210   0.000846704       16110.8      0.4301           1      358   \n",
      "    Iter      log prob        ||dx||      ||grad||       alpha      alpha0  # evals  Notes \n",
      "     399        191301   0.000347345       29505.6           1           1      472   \n",
      "    Iter      log prob        ||dx||      ||grad||       alpha      alpha0  # evals  Notes \n",
      "     499        191378   0.000850502       6068.66           1           1      581   \n",
      "    Iter      log prob        ||dx||      ||grad||       alpha      alpha0  # evals  Notes \n",
      "     599     "
     ]
    }
   ],
   "source": [
    "model = Prophet()\n",
    "model.fit(ta)"
   ]
  },
  {
   "cell_type": "code",
   "execution_count": 11,
   "id": "aed9858b",
   "metadata": {},
   "outputs": [],
   "source": [
    "# forecast = model.predict(future)\n",
    "# forecast[['ds', 'yhat', 'yhat_lower', 'yhat_upper']].tail()"
   ]
  },
  {
   "cell_type": "code",
   "execution_count": 12,
   "id": "b3e3f594",
   "metadata": {},
   "outputs": [
    {
     "name": "stdout",
     "output_type": "stream",
     "text": [
      "   191423   0.000433411       6143.22      0.4963           1      706   \n",
      "    Iter      log prob        ||dx||      ||grad||       alpha      alpha0  # evals  Notes \n",
      "     699        191444   0.000416699       12345.1           1           1      821   \n",
      "    Iter      log prob        ||dx||      ||grad||       alpha      alpha0  # evals  Notes \n",
      "     799        191466    7.3417e-05       6031.29      0.2295      0.2295      936   \n",
      "    Iter      log prob        ||dx||      ||grad||       alpha      alpha0  # evals  Notes \n",
      "     899        191473   0.000282958       15147.9           1           1     1047   \n",
      "    Iter      log prob        ||dx||      ||grad||       alpha      alpha0  # evals  Notes \n",
      "     999        191482   4.17671e-05        4369.7      0.3344      0.3344     1158   \n",
      "    Iter      log prob        ||dx||      ||grad||       alpha      alpha0  # evals  Notes \n",
      "    1099        191487   0.000902004       1707.11           1           1     1270   \n",
      "    Iter      log prob        |"
     ]
    }
   ],
   "source": [
    "# model.plot(forecast)\n",
    "# plt.show()"
   ]
  },
  {
   "cell_type": "code",
   "execution_count": 13,
   "id": "01899840",
   "metadata": {},
   "outputs": [
    {
     "name": "stdout",
     "output_type": "stream",
     "text": [
      "|dx||      ||grad||       alpha      alpha0  # evals  Notes \n",
      "    1199        191491   7.06306e-05       11880.6       0.707       0.707     1385   \n",
      "    Iter      log prob        ||dx||      ||grad||       alpha      alpha0  # evals  Notes \n",
      "    1299        191496   9.16983e-06       1508.86           1           1     1504   \n",
      "    Iter      log prob        ||dx||      ||grad||       alpha      alpha0  # evals  Notes \n",
      "    1399        191499    0.00020842       7330.25      0.3027           1     1620   \n",
      "    Iter      log prob        ||dx||      ||grad||       alpha      alpha0  # evals  Notes \n",
      "    1499        191502   0.000295485       3090.56      0.2804           1     1730   \n",
      "    Iter      log prob        ||dx||      ||grad||       alpha      alpha0  # evals  Notes \n",
      "    1599        191504   4.93122e-05       2206.63      0.7845      0.7845     1835   \n",
      "    Iter      log prob        ||dx||      ||grad||       alpha      alpha0  # evals  Notes \n",
      "    1636        191504    1.0823e-05       401.086           1           1     1879   \n",
      "Optimization terminated normally: \n",
      "  Convergence detected: relative gradient magnitude is below tolerance\n"
     ]
    },
    {
     "data": {
      "text/html": [
       "<div>\n",
       "<style scoped>\n",
       "    .dataframe tbody tr th:only-of-type {\n",
       "        vertical-align: middle;\n",
       "    }\n",
       "\n",
       "    .dataframe tbody tr th {\n",
       "        vertical-align: top;\n",
       "    }\n",
       "\n",
       "    .dataframe thead th {\n",
       "        text-align: right;\n",
       "    }\n",
       "</style>\n",
       "<table border=\"1\" class=\"dataframe\">\n",
       "  <thead>\n",
       "    <tr style=\"text-align: right;\">\n",
       "      <th></th>\n",
       "      <th>ds</th>\n",
       "      <th>yhat</th>\n",
       "      <th>yhat_lower</th>\n",
       "      <th>yhat_upper</th>\n",
       "    </tr>\n",
       "  </thead>\n",
       "  <tbody>\n",
       "    <tr>\n",
       "      <th>43796</th>\n",
       "      <td>2022-11-29 21:00:00</td>\n",
       "      <td>288.996313</td>\n",
       "      <td>104.113600</td>\n",
       "      <td>460.666928</td>\n",
       "    </tr>\n",
       "    <tr>\n",
       "      <th>43797</th>\n",
       "      <td>2022-11-29 22:00:00</td>\n",
       "      <td>288.507562</td>\n",
       "      <td>100.398436</td>\n",
       "      <td>462.675211</td>\n",
       "    </tr>\n",
       "    <tr>\n",
       "      <th>43798</th>\n",
       "      <td>2022-11-29 23:00:00</td>\n",
       "      <td>288.065021</td>\n",
       "      <td>102.323855</td>\n",
       "      <td>461.266188</td>\n",
       "    </tr>\n",
       "    <tr>\n",
       "      <th>43799</th>\n",
       "      <td>2022-11-30 00:00:00</td>\n",
       "      <td>287.689473</td>\n",
       "      <td>100.887203</td>\n",
       "      <td>462.165099</td>\n",
       "    </tr>\n",
       "    <tr>\n",
       "      <th>43800</th>\n",
       "      <td>2022-11-30 01:00:00</td>\n",
       "      <td>287.377276</td>\n",
       "      <td>99.900098</td>\n",
       "      <td>461.678982</td>\n",
       "    </tr>\n",
       "  </tbody>\n",
       "</table>\n",
       "</div>"
      ],
      "text/plain": [
       "                       ds        yhat  yhat_lower  yhat_upper\n",
       "43796 2022-11-29 21:00:00  288.996313  104.113600  460.666928\n",
       "43797 2022-11-29 22:00:00  288.507562  100.398436  462.675211\n",
       "43798 2022-11-29 23:00:00  288.065021  102.323855  461.266188\n",
       "43799 2022-11-30 00:00:00  287.689473  100.887203  462.165099\n",
       "43800 2022-11-30 01:00:00  287.377276   99.900098  461.678982"
      ]
     },
     "execution_count": 13,
     "metadata": {},
     "output_type": "execute_result"
    }
   ],
   "source": [
    "from dateutil import rrule\n",
    "from datetime import datetime, timedelta\n",
    "\n",
    "now = datetime(2017, 12, 1, 1, 0, 0)\n",
    "daysLater = now + timedelta(days=1825)\n",
    "\n",
    "future_dates = []\n",
    "for dt in rrule.rrule(rrule.HOURLY, dtstart=now, until=daysLater):\n",
    "    future_dates.append(dt)\n",
    "future_dates = pd.DataFrame(future_dates)\n",
    "future_dates.columns = ['ds']\n",
    "future_dates['ds'] = pd.to_datetime(future_dates['ds'])\n",
    "\n",
    "forecast = model.predict(future_dates)\n",
    "forecast[['ds', 'yhat', 'yhat_lower', 'yhat_upper']].tail()"
   ]
  },
  {
   "cell_type": "code",
   "execution_count": 14,
   "id": "2a47c51f",
   "metadata": {},
   "outputs": [
    {
     "data": {
      "image/png": "[encoded data removed]",
      "text/plain": [
       "<Figure size 720x432 with 1 Axes>"
      ]
     },
     "metadata": {},
     "output_type": "display_data"
    }
   ],
   "source": [
    "model.plot(forecast)\n",
    "plt.show()"
   ]
  },
  {
   "cell_type": "code",
   "execution_count": 15,
   "id": "0adac7ba",
   "metadata": {},
   "outputs": [
    {
     "name": "stdout",
     "output_type": "stream",
     "text": [
      "                       ds   yhat\n",
      "0     2017-12-01 01:00:00  286.3\n",
      "1     2017-12-01 02:00:00  286.1\n",
      "2     2017-12-01 03:00:00  286.1\n",
      "3     2017-12-01 04:00:00  286.6\n",
      "4     2017-12-01 05:00:00  287.7\n",
      "...                   ...    ...\n",
      "43796 2022-11-29 21:00:00  289.0\n",
      "43797 2022-11-29 22:00:00  288.5\n",
      "43798 2022-11-29 23:00:00  288.1\n",
      "43799 2022-11-30 00:00:00  287.7\n",
      "43800 2022-11-30 01:00:00  287.4\n",
      "\n",
      "[43801 rows x 2 columns]\n"
     ]
    }
   ],
   "source": [
    "forecast = forecast[['ds', 'yhat']]\n",
    "forecast['yhat'] = forecast['yhat'].round(1)\n",
    "print(forecast)"
   ]
  },
  {
   "cell_type": "code",
   "execution_count": 16,
   "id": "f5928c89",
   "metadata": {},
   "outputs": [],
   "source": [
    "compression_opts = dict(method = 'zip', archive_name = 'Temperature.csv')  \n",
    "forecast.to_csv('Temperature.zip', index = False, compression = compression_opts)"
   ]
  },
  {
   "cell_type": "code",
   "execution_count": null,
   "id": "857bc615",
   "metadata": {},
   "outputs": [],
   "source": []
  }
 ],
 "metadata": {
  "kernelspec": {
   "display_name": "Python 3 (ipykernel)",
   "language": "python",
   "name": "python3"
  },
  "language_info": {
   "codemirror_mode": {
    "name": "ipython",
    "version": 3
   },
   "file_extension": ".py",
   "mimetype": "text/x-python",
   "name": "python",
   "nbconvert_exporter": "python",
   "pygments_lexer": "ipython3",
   "version": "3.9.7"
  }
 },
 "nbformat": 4,
 "nbformat_minor": 5
}
