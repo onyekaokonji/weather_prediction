{
 "cells": [
  {
   "cell_type": "code",
   "execution_count": 1,
   "id": "99d71c97",
   "metadata": {},
   "outputs": [],
   "source": [
    "import pandas as pd\n",
    "from prophet import Prophet\n",
    "import matplotlib.pyplot as plt"
   ]
  },
  {
   "cell_type": "code",
   "execution_count": 2,
   "id": "9effd6eb",
   "metadata": {},
   "outputs": [],
   "source": [
    "ta = pd.read_csv(\"Tel_Aviv.csv\")"
   ]
  },
  {
   "cell_type": "code",
   "execution_count": 3,
   "id": "34db5f6d",
   "metadata": {},
   "outputs": [
    {
     "data": {
      "text/html": [
       "<div>\n",
       "<style scoped>\n",
       "    .dataframe tbody tr th:only-of-type {\n",
       "        vertical-align: middle;\n",
       "    }\n",
       "\n",
       "    .dataframe tbody tr th {\n",
       "        vertical-align: top;\n",
       "    }\n",
       "\n",
       "    .dataframe thead th {\n",
       "        text-align: right;\n",
       "    }\n",
       "</style>\n",
       "<table border=\"1\" class=\"dataframe\">\n",
       "  <thead>\n",
       "    <tr style=\"text-align: right;\">\n",
       "      <th></th>\n",
       "      <th>datetime</th>\n",
       "      <th>pressure</th>\n",
       "      <th>humidity</th>\n",
       "      <th>temperature</th>\n",
       "      <th>weather</th>\n",
       "      <th>wind direction</th>\n",
       "      <th>wind speed</th>\n",
       "    </tr>\n",
       "  </thead>\n",
       "  <tbody>\n",
       "    <tr>\n",
       "      <th>0</th>\n",
       "      <td>2012-10-01 12:00:00</td>\n",
       "      <td>NaN</td>\n",
       "      <td>NaN</td>\n",
       "      <td>NaN</td>\n",
       "      <td>sky is not clear</td>\n",
       "      <td>NaN</td>\n",
       "      <td>NaN</td>\n",
       "    </tr>\n",
       "    <tr>\n",
       "      <th>1</th>\n",
       "      <td>2012-10-01 13:00:00</td>\n",
       "      <td>1012.0</td>\n",
       "      <td>63.0</td>\n",
       "      <td>305.470000</td>\n",
       "      <td>sky is clear</td>\n",
       "      <td>0.0</td>\n",
       "      <td>0.0</td>\n",
       "    </tr>\n",
       "    <tr>\n",
       "      <th>2</th>\n",
       "      <td>2012-10-01 14:00:00</td>\n",
       "      <td>1012.0</td>\n",
       "      <td>62.0</td>\n",
       "      <td>304.310000</td>\n",
       "      <td>sky is clear</td>\n",
       "      <td>0.0</td>\n",
       "      <td>0.0</td>\n",
       "    </tr>\n",
       "    <tr>\n",
       "      <th>3</th>\n",
       "      <td>2012-10-01 15:00:00</td>\n",
       "      <td>1012.0</td>\n",
       "      <td>62.0</td>\n",
       "      <td>304.281841</td>\n",
       "      <td>sky is clear</td>\n",
       "      <td>0.0</td>\n",
       "      <td>0.0</td>\n",
       "    </tr>\n",
       "    <tr>\n",
       "      <th>4</th>\n",
       "      <td>2012-10-01 16:00:00</td>\n",
       "      <td>1012.0</td>\n",
       "      <td>62.0</td>\n",
       "      <td>304.238015</td>\n",
       "      <td>sky is clear</td>\n",
       "      <td>0.0</td>\n",
       "      <td>0.0</td>\n",
       "    </tr>\n",
       "    <tr>\n",
       "      <th>5</th>\n",
       "      <td>2012-10-01 17:00:00</td>\n",
       "      <td>1012.0</td>\n",
       "      <td>62.0</td>\n",
       "      <td>304.194188</td>\n",
       "      <td>sky is clear</td>\n",
       "      <td>0.0</td>\n",
       "      <td>0.0</td>\n",
       "    </tr>\n",
       "    <tr>\n",
       "      <th>6</th>\n",
       "      <td>2012-10-01 18:00:00</td>\n",
       "      <td>1012.0</td>\n",
       "      <td>63.0</td>\n",
       "      <td>304.150361</td>\n",
       "      <td>sky is clear</td>\n",
       "      <td>0.0</td>\n",
       "      <td>0.0</td>\n",
       "    </tr>\n",
       "    <tr>\n",
       "      <th>7</th>\n",
       "      <td>2012-10-01 19:00:00</td>\n",
       "      <td>1012.0</td>\n",
       "      <td>63.0</td>\n",
       "      <td>304.106534</td>\n",
       "      <td>sky is clear</td>\n",
       "      <td>0.0</td>\n",
       "      <td>1.0</td>\n",
       "    </tr>\n",
       "    <tr>\n",
       "      <th>8</th>\n",
       "      <td>2012-10-01 20:00:00</td>\n",
       "      <td>1012.0</td>\n",
       "      <td>63.0</td>\n",
       "      <td>304.062708</td>\n",
       "      <td>sky is clear</td>\n",
       "      <td>0.0</td>\n",
       "      <td>1.0</td>\n",
       "    </tr>\n",
       "    <tr>\n",
       "      <th>9</th>\n",
       "      <td>2012-10-01 21:00:00</td>\n",
       "      <td>1012.0</td>\n",
       "      <td>64.0</td>\n",
       "      <td>304.018881</td>\n",
       "      <td>sky is clear</td>\n",
       "      <td>0.0</td>\n",
       "      <td>1.0</td>\n",
       "    </tr>\n",
       "  </tbody>\n",
       "</table>\n",
       "</div>"
      ],
      "text/plain": [
       "              datetime  pressure  humidity  temperature           weather  \\\n",
       "0  2012-10-01 12:00:00       NaN       NaN          NaN  sky is not clear   \n",
       "1  2012-10-01 13:00:00    1012.0      63.0   305.470000      sky is clear   \n",
       "2  2012-10-01 14:00:00    1012.0      62.0   304.310000      sky is clear   \n",
       "3  2012-10-01 15:00:00    1012.0      62.0   304.281841      sky is clear   \n",
       "4  2012-10-01 16:00:00    1012.0      62.0   304.238015      sky is clear   \n",
       "5  2012-10-01 17:00:00    1012.0      62.0   304.194188      sky is clear   \n",
       "6  2012-10-01 18:00:00    1012.0      63.0   304.150361      sky is clear   \n",
       "7  2012-10-01 19:00:00    1012.0      63.0   304.106534      sky is clear   \n",
       "8  2012-10-01 20:00:00    1012.0      63.0   304.062708      sky is clear   \n",
       "9  2012-10-01 21:00:00    1012.0      64.0   304.018881      sky is clear   \n",
       "\n",
       "   wind direction  wind speed  \n",
       "0             NaN         NaN  \n",
       "1             0.0         0.0  \n",
       "2             0.0         0.0  \n",
       "3             0.0         0.0  \n",
       "4             0.0         0.0  \n",
       "5             0.0         0.0  \n",
       "6             0.0         0.0  \n",
       "7             0.0         1.0  \n",
       "8             0.0         1.0  \n",
       "9             0.0         1.0  "
      ]
     },
     "execution_count": 3,
     "metadata": {},
     "output_type": "execute_result"
    }
   ],
   "source": [
    "ta.head(10)"
   ]
  },
  {
   "cell_type": "code",
   "execution_count": 4,
   "id": "f7118a87",
   "metadata": {},
   "outputs": [],
   "source": [
    "ta.drop(['humidity', 'temperature', 'weather', 'wind direction', 'wind speed'], axis = 1, inplace = True)"
   ]
  },
  {
   "cell_type": "code",
   "execution_count": 5,
   "id": "a5a459fa",
   "metadata": {},
   "outputs": [
    {
     "data": {
      "text/html": [
       "<div>\n",
       "<style scoped>\n",
       "    .dataframe tbody tr th:only-of-type {\n",
       "        vertical-align: middle;\n",
       "    }\n",
       "\n",
       "    .dataframe tbody tr th {\n",
       "        vertical-align: top;\n",
       "    }\n",
       "\n",
       "    .dataframe thead th {\n",
       "        text-align: right;\n",
       "    }\n",
       "</style>\n",
       "<table border=\"1\" class=\"dataframe\">\n",
       "  <thead>\n",
       "    <tr style=\"text-align: right;\">\n",
       "      <th></th>\n",
       "      <th>ds</th>\n",
       "      <th>y</th>\n",
       "    </tr>\n",
       "  </thead>\n",
       "  <tbody>\n",
       "    <tr>\n",
       "      <th>0</th>\n",
       "      <td>2012-10-01 12:00:00</td>\n",
       "      <td>NaN</td>\n",
       "    </tr>\n",
       "    <tr>\n",
       "      <th>1</th>\n",
       "      <td>2012-10-01 13:00:00</td>\n",
       "      <td>1012.0</td>\n",
       "    </tr>\n",
       "    <tr>\n",
       "      <th>2</th>\n",
       "      <td>2012-10-01 14:00:00</td>\n",
       "      <td>1012.0</td>\n",
       "    </tr>\n",
       "    <tr>\n",
       "      <th>3</th>\n",
       "      <td>2012-10-01 15:00:00</td>\n",
       "      <td>1012.0</td>\n",
       "    </tr>\n",
       "    <tr>\n",
       "      <th>4</th>\n",
       "      <td>2012-10-01 16:00:00</td>\n",
       "      <td>1012.0</td>\n",
       "    </tr>\n",
       "  </tbody>\n",
       "</table>\n",
       "</div>"
      ],
      "text/plain": [
       "                    ds       y\n",
       "0  2012-10-01 12:00:00     NaN\n",
       "1  2012-10-01 13:00:00  1012.0\n",
       "2  2012-10-01 14:00:00  1012.0\n",
       "3  2012-10-01 15:00:00  1012.0\n",
       "4  2012-10-01 16:00:00  1012.0"
      ]
     },
     "execution_count": 5,
     "metadata": {},
     "output_type": "execute_result"
    }
   ],
   "source": [
    "ta.rename(columns = {'datetime': 'ds', 'pressure': 'y'}, inplace = True)\n",
    "ta.head()"
   ]
  },
  {
   "cell_type": "code",
   "execution_count": 6,
   "id": "f40b09f4",
   "metadata": {},
   "outputs": [
    {
     "data": {
      "text/html": [
       "<div>\n",
       "<style scoped>\n",
       "    .dataframe tbody tr th:only-of-type {\n",
       "        vertical-align: middle;\n",
       "    }\n",
       "\n",
       "    .dataframe tbody tr th {\n",
       "        vertical-align: top;\n",
       "    }\n",
       "\n",
       "    .dataframe thead th {\n",
       "        text-align: right;\n",
       "    }\n",
       "</style>\n",
       "<table border=\"1\" class=\"dataframe\">\n",
       "  <thead>\n",
       "    <tr style=\"text-align: right;\">\n",
       "      <th></th>\n",
       "      <th>ds</th>\n",
       "      <th>y</th>\n",
       "    </tr>\n",
       "  </thead>\n",
       "  <tbody>\n",
       "    <tr>\n",
       "      <th>45248</th>\n",
       "      <td>2017-11-29 20:00:00</td>\n",
       "      <td>NaN</td>\n",
       "    </tr>\n",
       "    <tr>\n",
       "      <th>45249</th>\n",
       "      <td>2017-11-29 21:00:00</td>\n",
       "      <td>NaN</td>\n",
       "    </tr>\n",
       "    <tr>\n",
       "      <th>45250</th>\n",
       "      <td>2017-11-29 22:00:00</td>\n",
       "      <td>NaN</td>\n",
       "    </tr>\n",
       "    <tr>\n",
       "      <th>45251</th>\n",
       "      <td>2017-11-29 23:00:00</td>\n",
       "      <td>NaN</td>\n",
       "    </tr>\n",
       "    <tr>\n",
       "      <th>45252</th>\n",
       "      <td>2017-11-30 00:00:00</td>\n",
       "      <td>NaN</td>\n",
       "    </tr>\n",
       "  </tbody>\n",
       "</table>\n",
       "</div>"
      ],
      "text/plain": [
       "                        ds   y\n",
       "45248  2017-11-29 20:00:00 NaN\n",
       "45249  2017-11-29 21:00:00 NaN\n",
       "45250  2017-11-29 22:00:00 NaN\n",
       "45251  2017-11-29 23:00:00 NaN\n",
       "45252  2017-11-30 00:00:00 NaN"
      ]
     },
     "execution_count": 6,
     "metadata": {},
     "output_type": "execute_result"
    }
   ],
   "source": [
    "ta.tail()"
   ]
  },
  {
   "cell_type": "code",
   "execution_count": 7,
   "id": "23b450ad",
   "metadata": {},
   "outputs": [],
   "source": [
    "ta['ds'] = pd.to_datetime(ta['ds'])"
   ]
  },
  {
   "cell_type": "code",
   "execution_count": 8,
   "id": "76a44ecb",
   "metadata": {},
   "outputs": [
    {
     "data": {
      "text/html": [
       "<div>\n",
       "<style scoped>\n",
       "    .dataframe tbody tr th:only-of-type {\n",
       "        vertical-align: middle;\n",
       "    }\n",
       "\n",
       "    .dataframe tbody tr th {\n",
       "        vertical-align: top;\n",
       "    }\n",
       "\n",
       "    .dataframe thead th {\n",
       "        text-align: right;\n",
       "    }\n",
       "</style>\n",
       "<table border=\"1\" class=\"dataframe\">\n",
       "  <thead>\n",
       "    <tr style=\"text-align: right;\">\n",
       "      <th></th>\n",
       "      <th>ds</th>\n",
       "      <th>y</th>\n",
       "    </tr>\n",
       "  </thead>\n",
       "  <tbody>\n",
       "    <tr>\n",
       "      <th>0</th>\n",
       "      <td>2012-10-01 12:00:00</td>\n",
       "      <td>NaN</td>\n",
       "    </tr>\n",
       "    <tr>\n",
       "      <th>1</th>\n",
       "      <td>2012-10-01 13:00:00</td>\n",
       "      <td>1012.0</td>\n",
       "    </tr>\n",
       "    <tr>\n",
       "      <th>2</th>\n",
       "      <td>2012-10-01 14:00:00</td>\n",
       "      <td>1012.0</td>\n",
       "    </tr>\n",
       "    <tr>\n",
       "      <th>3</th>\n",
       "      <td>2012-10-01 15:00:00</td>\n",
       "      <td>1012.0</td>\n",
       "    </tr>\n",
       "    <tr>\n",
       "      <th>4</th>\n",
       "      <td>2012-10-01 16:00:00</td>\n",
       "      <td>1012.0</td>\n",
       "    </tr>\n",
       "  </tbody>\n",
       "</table>\n",
       "</div>"
      ],
      "text/plain": [
       "                   ds       y\n",
       "0 2012-10-01 12:00:00     NaN\n",
       "1 2012-10-01 13:00:00  1012.0\n",
       "2 2012-10-01 14:00:00  1012.0\n",
       "3 2012-10-01 15:00:00  1012.0\n",
       "4 2012-10-01 16:00:00  1012.0"
      ]
     },
     "execution_count": 8,
     "metadata": {},
     "output_type": "execute_result"
    }
   ],
   "source": [
    "ta.head()"
   ]
  },
  {
   "cell_type": "code",
   "execution_count": 9,
   "id": "e6dbfa58",
   "metadata": {},
   "outputs": [
    {
     "data": {
      "text/plain": [
       "Index(['ds', 'y'], dtype='object')"
      ]
     },
     "execution_count": 9,
     "metadata": {},
     "output_type": "execute_result"
    }
   ],
   "source": [
    "ta.columns"
   ]
  },
  {
   "cell_type": "code",
   "execution_count": 10,
   "id": "e892f205",
   "metadata": {},
   "outputs": [
    {
     "name": "stdout",
     "output_type": "stream",
     "text": [
      "Initial log joint probability = -2.99109\n",
      "    Iter      log prob        ||dx||      ||grad||       alpha      alpha0  # evals  Notes \n",
      "      99        215343   0.000961594         98030       0.455           1      124   \n",
      "    Iter      log prob        ||dx||      ||grad||       alpha      alpha0  # evals  Notes \n",
      "     199        215809   0.000439384       13102.2           1           1      238   \n",
      "    Iter      log prob        ||dx||      ||grad||       alpha      alpha0  # evals  Notes \n",
      "     299        216049   0.000632239       57703.9      0.2821           1      349   \n",
      "    Iter      log prob        ||dx||      ||grad||       alpha      alpha0  # evals  Notes \n",
      "     399        216380    0.00114322       55386.8           1           1      462   \n",
      "    Iter      log prob        ||dx||      ||grad||       alpha      alpha0  # evals  Notes \n",
      "     499        216512   4.23894e-05       7182.92           1           1      583   \n",
      "    Iter      log prob        ||dx||      ||grad||       alpha      alpha0  # evals  Notes \n",
      "     599     "
     ]
    },
    {
     "data": {
      "text/plain": [
       "<prophet.forecaster.Prophet at 0x7fc02b6df670>"
      ]
     },
     "execution_count": 10,
     "metadata": {},
     "output_type": "execute_result"
    },
    {
     "name": "stdout",
     "output_type": "stream",
     "text": [
      "   216546   0.000128679       18500.5      0.3055      0.3055      698   \n",
      "    Iter      log prob        ||dx||      ||grad||       alpha      alpha0  # evals  Notes \n",
      "     699        216734     0.0131763       55962.9           1           1      815   \n",
      "    Iter      log prob        ||dx||      ||grad||       alpha      alpha0  # evals  Notes \n",
      "     799        216787   0.000114478       11878.1           1           1      925   \n",
      "    Iter      log prob        ||dx||      ||grad||       alpha      alpha0  # evals  Notes \n",
      "     899        216848    0.00186748        177228      0.0744           1     1039   \n",
      "    Iter      log prob        ||dx||      ||grad||       alpha      alpha0  # evals  Notes \n",
      "     999        216879   2.99388e-05       10180.4      0.8484      0.8484     1149   \n",
      "    Iter      log prob        ||dx||      ||grad||       alpha      alpha0  # evals  Notes \n",
      "    1099        216912   0.000105519       9338.17           1           1     1261   \n",
      "    Iter      log prob        ||dx||      ||grad||       alpha      alpha0  # evals  Notes \n",
      "    1199        216925    0.00100438       15112.1        1.72      0.0172     1368   \n",
      "    Iter      log prob        ||dx||      ||grad||       alpha      alpha0  # evals  Notes \n",
      "    1299        216989   6.58718e-05       12410.4           1           1     1495   \n",
      "    Iter      log prob        ||dx||      ||grad||       alpha      alpha0  # evals  Notes \n",
      "    1399        217010    0.00146624       11179.4           1           1     1613   \n",
      "    Iter      log prob        ||dx||      ||grad||       alpha      alpha0  # evals  Notes \n",
      "    1499        217033   0.000229525       40298.1      0.2332     0.02332     1734   \n",
      "    Iter      log prob        ||dx||      ||grad||       alpha      alpha0  # evals  Notes \n",
      "    1599        217052   0.000174564       6054.66           1           1     1843   \n",
      "    Iter      log prob        ||dx||      ||grad||       alpha      alpha0  # evals  Notes \n",
      "    1640        217053   1.82646e-05       1160.38           1           1     1891   \n",
      "Optimization terminated normally: \n",
      "  Convergence detected: relative gradient magnitude is below tolerance\n"
     ]
    }
   ],
   "source": [
    "model = Prophet()\n",
    "model.fit(ta)"
   ]
  },
  {
   "cell_type": "code",
   "execution_count": 11,
   "id": "aed9858b",
   "metadata": {},
   "outputs": [],
   "source": [
    "# forecast = model.predict(future)\n",
    "# forecast[['ds', 'yhat', 'yhat_lower', 'yhat_upper']].tail()"
   ]
  },
  {
   "cell_type": "code",
   "execution_count": 12,
   "id": "b3e3f594",
   "metadata": {},
   "outputs": [],
   "source": [
    "# model.plot(forecast)\n",
    "# plt.show()"
   ]
  },
  {
   "cell_type": "code",
   "execution_count": 13,
   "id": "01899840",
   "metadata": {},
   "outputs": [
    {
     "data": {
      "text/html": [
       "<div>\n",
       "<style scoped>\n",
       "    .dataframe tbody tr th:only-of-type {\n",
       "        vertical-align: middle;\n",
       "    }\n",
       "\n",
       "    .dataframe tbody tr th {\n",
       "        vertical-align: top;\n",
       "    }\n",
       "\n",
       "    .dataframe thead th {\n",
       "        text-align: right;\n",
       "    }\n",
       "</style>\n",
       "<table border=\"1\" class=\"dataframe\">\n",
       "  <thead>\n",
       "    <tr style=\"text-align: right;\">\n",
       "      <th></th>\n",
       "      <th>ds</th>\n",
       "      <th>yhat</th>\n",
       "      <th>yhat_lower</th>\n",
       "      <th>yhat_upper</th>\n",
       "    </tr>\n",
       "  </thead>\n",
       "  <tbody>\n",
       "    <tr>\n",
       "      <th>43796</th>\n",
       "      <td>2022-11-29 21:00:00</td>\n",
       "      <td>1031.466296</td>\n",
       "      <td>486.982125</td>\n",
       "      <td>1543.384252</td>\n",
       "    </tr>\n",
       "    <tr>\n",
       "      <th>43797</th>\n",
       "      <td>2022-11-29 22:00:00</td>\n",
       "      <td>1031.389194</td>\n",
       "      <td>488.255234</td>\n",
       "      <td>1537.757277</td>\n",
       "    </tr>\n",
       "    <tr>\n",
       "      <th>43798</th>\n",
       "      <td>2022-11-29 23:00:00</td>\n",
       "      <td>1031.257105</td>\n",
       "      <td>488.835063</td>\n",
       "      <td>1542.799195</td>\n",
       "    </tr>\n",
       "    <tr>\n",
       "      <th>43799</th>\n",
       "      <td>2022-11-30 00:00:00</td>\n",
       "      <td>1031.088821</td>\n",
       "      <td>488.636777</td>\n",
       "      <td>1538.278701</td>\n",
       "    </tr>\n",
       "    <tr>\n",
       "      <th>43800</th>\n",
       "      <td>2022-11-30 01:00:00</td>\n",
       "      <td>1030.921409</td>\n",
       "      <td>489.929854</td>\n",
       "      <td>1536.937160</td>\n",
       "    </tr>\n",
       "  </tbody>\n",
       "</table>\n",
       "</div>"
      ],
      "text/plain": [
       "                       ds         yhat  yhat_lower   yhat_upper\n",
       "43796 2022-11-29 21:00:00  1031.466296  486.982125  1543.384252\n",
       "43797 2022-11-29 22:00:00  1031.389194  488.255234  1537.757277\n",
       "43798 2022-11-29 23:00:00  1031.257105  488.835063  1542.799195\n",
       "43799 2022-11-30 00:00:00  1031.088821  488.636777  1538.278701\n",
       "43800 2022-11-30 01:00:00  1030.921409  489.929854  1536.937160"
      ]
     },
     "execution_count": 13,
     "metadata": {},
     "output_type": "execute_result"
    }
   ],
   "source": [
    "from dateutil import rrule\n",
    "from datetime import datetime, timedelta\n",
    "\n",
    "now = datetime(2017, 12, 1, 1, 0, 0)\n",
    "daysLater = now + timedelta(days=1825)\n",
    "\n",
    "future_dates = []\n",
    "for dt in rrule.rrule(rrule.HOURLY, dtstart=now, until=daysLater):\n",
    "    future_dates.append(dt)\n",
    "future_dates = pd.DataFrame(future_dates)\n",
    "future_dates.columns = ['ds']\n",
    "future_dates['ds'] = pd.to_datetime(future_dates['ds'])\n",
    "\n",
    "forecast = model.predict(future_dates)\n",
    "forecast[['ds', 'yhat', 'yhat_lower', 'yhat_upper']].tail()"
   ]
  },
  {
   "cell_type": "code",
   "execution_count": 14,
   "id": "2a47c51f",
   "metadata": {},
   "outputs": [
    {
     "data": {
      "image/png": "[encoded data removed]",
      "text/plain": [
       "<Figure size 720x432 with 1 Axes>"
      ]
     },
     "metadata": {},
     "output_type": "display_data"
    }
   ],
   "source": [
    "model.plot(forecast)\n",
    "plt.show()"
   ]
  },
  {
   "cell_type": "code",
   "execution_count": 15,
   "id": "0adac7ba",
   "metadata": {},
   "outputs": [
    {
     "name": "stdout",
     "output_type": "stream",
     "text": [
      "                       ds    yhat\n",
      "0     2017-12-01 01:00:00  1018.6\n",
      "1     2017-12-01 02:00:00  1018.5\n",
      "2     2017-12-01 03:00:00  1018.5\n",
      "3     2017-12-01 04:00:00  1018.7\n",
      "4     2017-12-01 05:00:00  1019.0\n",
      "...                   ...     ...\n",
      "43796 2022-11-29 21:00:00  1031.5\n",
      "43797 2022-11-29 22:00:00  1031.4\n",
      "43798 2022-11-29 23:00:00  1031.3\n",
      "43799 2022-11-30 00:00:00  1031.1\n",
      "43800 2022-11-30 01:00:00  1030.9\n",
      "\n",
      "[43801 rows x 2 columns]\n"
     ]
    }
   ],
   "source": [
    "forecast = forecast[['ds', 'yhat']]\n",
    "forecast['yhat'] = forecast['yhat'].round(1)\n",
    "print(forecast)"
   ]
  },
  {
   "cell_type": "code",
   "execution_count": 16,
   "id": "f5928c89",
   "metadata": {},
   "outputs": [],
   "source": [
    "compression_opts = dict(method = 'zip', archive_name = 'Pressure.csv')  \n",
    "forecast.to_csv('Pressure.zip', index = False, compression = compression_opts)"
   ]
  },
  {
   "cell_type": "code",
   "execution_count": null,
   "id": "857bc615",
   "metadata": {},
   "outputs": [],
   "source": []
  }
 ],
 "metadata": {
  "kernelspec": {
   "display_name": "Python 3 (ipykernel)",
   "language": "python",
   "name": "python3"
  },
  "language_info": {
   "codemirror_mode": {
    "name": "ipython",
    "version": 3
   },
   "file_extension": ".py",
   "mimetype": "text/x-python",
   "name": "python",
   "nbconvert_exporter": "python",
   "pygments_lexer": "ipython3",
   "version": "3.9.7"
  }
 },
 "nbformat": 4,
 "nbformat_minor": 5
}
