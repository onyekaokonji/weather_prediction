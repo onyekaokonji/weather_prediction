{
 "cells": [
  {
   "cell_type": "code",
   "execution_count": 1,
   "id": "99d71c97",
   "metadata": {},
   "outputs": [],
   "source": [
    "import pandas as pd\n",
    "from prophet import Prophet\n",
    "import matplotlib.pyplot as plt"
   ]
  },
  {
   "cell_type": "code",
   "execution_count": 2,
   "id": "9effd6eb",
   "metadata": {},
   "outputs": [],
   "source": [
    "ta = pd.read_csv(\"Tel_Aviv.csv\")"
   ]
  },
  {
   "cell_type": "code",
   "execution_count": 3,
   "id": "34db5f6d",
   "metadata": {},
   "outputs": [
    {
     "data": {
      "text/html": [
       "<div>\n",
       "<style scoped>\n",
       "    .dataframe tbody tr th:only-of-type {\n",
       "        vertical-align: middle;\n",
       "    }\n",
       "\n",
       "    .dataframe tbody tr th {\n",
       "        vertical-align: top;\n",
       "    }\n",
       "\n",
       "    .dataframe thead th {\n",
       "        text-align: right;\n",
       "    }\n",
       "</style>\n",
       "<table border=\"1\" class=\"dataframe\">\n",
       "  <thead>\n",
       "    <tr style=\"text-align: right;\">\n",
       "      <th></th>\n",
       "      <th>datetime</th>\n",
       "      <th>pressure</th>\n",
       "      <th>humidity</th>\n",
       "      <th>temperature</th>\n",
       "      <th>weather</th>\n",
       "      <th>wind direction</th>\n",
       "      <th>wind speed</th>\n",
       "    </tr>\n",
       "  </thead>\n",
       "  <tbody>\n",
       "    <tr>\n",
       "      <th>0</th>\n",
       "      <td>2012-10-01 12:00:00</td>\n",
       "      <td>NaN</td>\n",
       "      <td>NaN</td>\n",
       "      <td>NaN</td>\n",
       "      <td>sky is not clear</td>\n",
       "      <td>NaN</td>\n",
       "      <td>NaN</td>\n",
       "    </tr>\n",
       "    <tr>\n",
       "      <th>1</th>\n",
       "      <td>2012-10-01 13:00:00</td>\n",
       "      <td>1012.0</td>\n",
       "      <td>63.0</td>\n",
       "      <td>305.470000</td>\n",
       "      <td>sky is clear</td>\n",
       "      <td>0.0</td>\n",
       "      <td>0.0</td>\n",
       "    </tr>\n",
       "    <tr>\n",
       "      <th>2</th>\n",
       "      <td>2012-10-01 14:00:00</td>\n",
       "      <td>1012.0</td>\n",
       "      <td>62.0</td>\n",
       "      <td>304.310000</td>\n",
       "      <td>sky is clear</td>\n",
       "      <td>0.0</td>\n",
       "      <td>0.0</td>\n",
       "    </tr>\n",
       "    <tr>\n",
       "      <th>3</th>\n",
       "      <td>2012-10-01 15:00:00</td>\n",
       "      <td>1012.0</td>\n",
       "      <td>62.0</td>\n",
       "      <td>304.281841</td>\n",
       "      <td>sky is clear</td>\n",
       "      <td>0.0</td>\n",
       "      <td>0.0</td>\n",
       "    </tr>\n",
       "    <tr>\n",
       "      <th>4</th>\n",
       "      <td>2012-10-01 16:00:00</td>\n",
       "      <td>1012.0</td>\n",
       "      <td>62.0</td>\n",
       "      <td>304.238015</td>\n",
       "      <td>sky is clear</td>\n",
       "      <td>0.0</td>\n",
       "      <td>0.0</td>\n",
       "    </tr>\n",
       "    <tr>\n",
       "      <th>5</th>\n",
       "      <td>2012-10-01 17:00:00</td>\n",
       "      <td>1012.0</td>\n",
       "      <td>62.0</td>\n",
       "      <td>304.194188</td>\n",
       "      <td>sky is clear</td>\n",
       "      <td>0.0</td>\n",
       "      <td>0.0</td>\n",
       "    </tr>\n",
       "    <tr>\n",
       "      <th>6</th>\n",
       "      <td>2012-10-01 18:00:00</td>\n",
       "      <td>1012.0</td>\n",
       "      <td>63.0</td>\n",
       "      <td>304.150361</td>\n",
       "      <td>sky is clear</td>\n",
       "      <td>0.0</td>\n",
       "      <td>0.0</td>\n",
       "    </tr>\n",
       "    <tr>\n",
       "      <th>7</th>\n",
       "      <td>2012-10-01 19:00:00</td>\n",
       "      <td>1012.0</td>\n",
       "      <td>63.0</td>\n",
       "      <td>304.106534</td>\n",
       "      <td>sky is clear</td>\n",
       "      <td>0.0</td>\n",
       "      <td>1.0</td>\n",
       "    </tr>\n",
       "    <tr>\n",
       "      <th>8</th>\n",
       "      <td>2012-10-01 20:00:00</td>\n",
       "      <td>1012.0</td>\n",
       "      <td>63.0</td>\n",
       "      <td>304.062708</td>\n",
       "      <td>sky is clear</td>\n",
       "      <td>0.0</td>\n",
       "      <td>1.0</td>\n",
       "    </tr>\n",
       "    <tr>\n",
       "      <th>9</th>\n",
       "      <td>2012-10-01 21:00:00</td>\n",
       "      <td>1012.0</td>\n",
       "      <td>64.0</td>\n",
       "      <td>304.018881</td>\n",
       "      <td>sky is clear</td>\n",
       "      <td>0.0</td>\n",
       "      <td>1.0</td>\n",
       "    </tr>\n",
       "  </tbody>\n",
       "</table>\n",
       "</div>"
      ],
      "text/plain": [
       "              datetime  pressure  humidity  temperature           weather  \\\n",
       "0  2012-10-01 12:00:00       NaN       NaN          NaN  sky is not clear   \n",
       "1  2012-10-01 13:00:00    1012.0      63.0   305.470000      sky is clear   \n",
       "2  2012-10-01 14:00:00    1012.0      62.0   304.310000      sky is clear   \n",
       "3  2012-10-01 15:00:00    1012.0      62.0   304.281841      sky is clear   \n",
       "4  2012-10-01 16:00:00    1012.0      62.0   304.238015      sky is clear   \n",
       "5  2012-10-01 17:00:00    1012.0      62.0   304.194188      sky is clear   \n",
       "6  2012-10-01 18:00:00    1012.0      63.0   304.150361      sky is clear   \n",
       "7  2012-10-01 19:00:00    1012.0      63.0   304.106534      sky is clear   \n",
       "8  2012-10-01 20:00:00    1012.0      63.0   304.062708      sky is clear   \n",
       "9  2012-10-01 21:00:00    1012.0      64.0   304.018881      sky is clear   \n",
       "\n",
       "   wind direction  wind speed  \n",
       "0             NaN         NaN  \n",
       "1             0.0         0.0  \n",
       "2             0.0         0.0  \n",
       "3             0.0         0.0  \n",
       "4             0.0         0.0  \n",
       "5             0.0         0.0  \n",
       "6             0.0         0.0  \n",
       "7             0.0         1.0  \n",
       "8             0.0         1.0  \n",
       "9             0.0         1.0  "
      ]
     },
     "execution_count": 3,
     "metadata": {},
     "output_type": "execute_result"
    }
   ],
   "source": [
    "ta.head(10)"
   ]
  },
  {
   "cell_type": "code",
   "execution_count": 4,
   "id": "f7118a87",
   "metadata": {},
   "outputs": [],
   "source": [
    "ta.drop(['pressure', 'wind direction', 'weather', 'humidity', 'temperature'], axis = 1, inplace = True)"
   ]
  },
  {
   "cell_type": "code",
   "execution_count": 5,
   "id": "a5a459fa",
   "metadata": {},
   "outputs": [
    {
     "data": {
      "text/html": [
       "<div>\n",
       "<style scoped>\n",
       "    .dataframe tbody tr th:only-of-type {\n",
       "        vertical-align: middle;\n",
       "    }\n",
       "\n",
       "    .dataframe tbody tr th {\n",
       "        vertical-align: top;\n",
       "    }\n",
       "\n",
       "    .dataframe thead th {\n",
       "        text-align: right;\n",
       "    }\n",
       "</style>\n",
       "<table border=\"1\" class=\"dataframe\">\n",
       "  <thead>\n",
       "    <tr style=\"text-align: right;\">\n",
       "      <th></th>\n",
       "      <th>ds</th>\n",
       "      <th>y</th>\n",
       "    </tr>\n",
       "  </thead>\n",
       "  <tbody>\n",
       "    <tr>\n",
       "      <th>0</th>\n",
       "      <td>2012-10-01 12:00:00</td>\n",
       "      <td>NaN</td>\n",
       "    </tr>\n",
       "    <tr>\n",
       "      <th>1</th>\n",
       "      <td>2012-10-01 13:00:00</td>\n",
       "      <td>0.0</td>\n",
       "    </tr>\n",
       "    <tr>\n",
       "      <th>2</th>\n",
       "      <td>2012-10-01 14:00:00</td>\n",
       "      <td>0.0</td>\n",
       "    </tr>\n",
       "    <tr>\n",
       "      <th>3</th>\n",
       "      <td>2012-10-01 15:00:00</td>\n",
       "      <td>0.0</td>\n",
       "    </tr>\n",
       "    <tr>\n",
       "      <th>4</th>\n",
       "      <td>2012-10-01 16:00:00</td>\n",
       "      <td>0.0</td>\n",
       "    </tr>\n",
       "  </tbody>\n",
       "</table>\n",
       "</div>"
      ],
      "text/plain": [
       "                    ds    y\n",
       "0  2012-10-01 12:00:00  NaN\n",
       "1  2012-10-01 13:00:00  0.0\n",
       "2  2012-10-01 14:00:00  0.0\n",
       "3  2012-10-01 15:00:00  0.0\n",
       "4  2012-10-01 16:00:00  0.0"
      ]
     },
     "execution_count": 5,
     "metadata": {},
     "output_type": "execute_result"
    }
   ],
   "source": [
    "ta.rename(columns = {'datetime': 'ds', 'wind speed': 'y'}, inplace = True)\n",
    "ta.head()"
   ]
  },
  {
   "cell_type": "code",
   "execution_count": 6,
   "id": "f40b09f4",
   "metadata": {},
   "outputs": [
    {
     "data": {
      "text/html": [
       "<div>\n",
       "<style scoped>\n",
       "    .dataframe tbody tr th:only-of-type {\n",
       "        vertical-align: middle;\n",
       "    }\n",
       "\n",
       "    .dataframe tbody tr th {\n",
       "        vertical-align: top;\n",
       "    }\n",
       "\n",
       "    .dataframe thead th {\n",
       "        text-align: right;\n",
       "    }\n",
       "</style>\n",
       "<table border=\"1\" class=\"dataframe\">\n",
       "  <thead>\n",
       "    <tr style=\"text-align: right;\">\n",
       "      <th></th>\n",
       "      <th>ds</th>\n",
       "      <th>y</th>\n",
       "    </tr>\n",
       "  </thead>\n",
       "  <tbody>\n",
       "    <tr>\n",
       "      <th>45248</th>\n",
       "      <td>2017-11-29 20:00:00</td>\n",
       "      <td>NaN</td>\n",
       "    </tr>\n",
       "    <tr>\n",
       "      <th>45249</th>\n",
       "      <td>2017-11-29 21:00:00</td>\n",
       "      <td>NaN</td>\n",
       "    </tr>\n",
       "    <tr>\n",
       "      <th>45250</th>\n",
       "      <td>2017-11-29 22:00:00</td>\n",
       "      <td>NaN</td>\n",
       "    </tr>\n",
       "    <tr>\n",
       "      <th>45251</th>\n",
       "      <td>2017-11-29 23:00:00</td>\n",
       "      <td>NaN</td>\n",
       "    </tr>\n",
       "    <tr>\n",
       "      <th>45252</th>\n",
       "      <td>2017-11-30 00:00:00</td>\n",
       "      <td>NaN</td>\n",
       "    </tr>\n",
       "  </tbody>\n",
       "</table>\n",
       "</div>"
      ],
      "text/plain": [
       "                        ds   y\n",
       "45248  2017-11-29 20:00:00 NaN\n",
       "45249  2017-11-29 21:00:00 NaN\n",
       "45250  2017-11-29 22:00:00 NaN\n",
       "45251  2017-11-29 23:00:00 NaN\n",
       "45252  2017-11-30 00:00:00 NaN"
      ]
     },
     "execution_count": 6,
     "metadata": {},
     "output_type": "execute_result"
    }
   ],
   "source": [
    "ta.tail()"
   ]
  },
  {
   "cell_type": "code",
   "execution_count": 7,
   "id": "23b450ad",
   "metadata": {},
   "outputs": [],
   "source": [
    "ta['ds'] = pd.to_datetime(ta['ds'])"
   ]
  },
  {
   "cell_type": "code",
   "execution_count": 8,
   "id": "76a44ecb",
   "metadata": {},
   "outputs": [
    {
     "data": {
      "text/html": [
       "<div>\n",
       "<style scoped>\n",
       "    .dataframe tbody tr th:only-of-type {\n",
       "        vertical-align: middle;\n",
       "    }\n",
       "\n",
       "    .dataframe tbody tr th {\n",
       "        vertical-align: top;\n",
       "    }\n",
       "\n",
       "    .dataframe thead th {\n",
       "        text-align: right;\n",
       "    }\n",
       "</style>\n",
       "<table border=\"1\" class=\"dataframe\">\n",
       "  <thead>\n",
       "    <tr style=\"text-align: right;\">\n",
       "      <th></th>\n",
       "      <th>ds</th>\n",
       "      <th>y</th>\n",
       "    </tr>\n",
       "  </thead>\n",
       "  <tbody>\n",
       "    <tr>\n",
       "      <th>0</th>\n",
       "      <td>2012-10-01 12:00:00</td>\n",
       "      <td>NaN</td>\n",
       "    </tr>\n",
       "    <tr>\n",
       "      <th>1</th>\n",
       "      <td>2012-10-01 13:00:00</td>\n",
       "      <td>0.0</td>\n",
       "    </tr>\n",
       "    <tr>\n",
       "      <th>2</th>\n",
       "      <td>2012-10-01 14:00:00</td>\n",
       "      <td>0.0</td>\n",
       "    </tr>\n",
       "    <tr>\n",
       "      <th>3</th>\n",
       "      <td>2012-10-01 15:00:00</td>\n",
       "      <td>0.0</td>\n",
       "    </tr>\n",
       "    <tr>\n",
       "      <th>4</th>\n",
       "      <td>2012-10-01 16:00:00</td>\n",
       "      <td>0.0</td>\n",
       "    </tr>\n",
       "  </tbody>\n",
       "</table>\n",
       "</div>"
      ],
      "text/plain": [
       "                   ds    y\n",
       "0 2012-10-01 12:00:00  NaN\n",
       "1 2012-10-01 13:00:00  0.0\n",
       "2 2012-10-01 14:00:00  0.0\n",
       "3 2012-10-01 15:00:00  0.0\n",
       "4 2012-10-01 16:00:00  0.0"
      ]
     },
     "execution_count": 8,
     "metadata": {},
     "output_type": "execute_result"
    }
   ],
   "source": [
    "ta.head()"
   ]
  },
  {
   "cell_type": "code",
   "execution_count": 9,
   "id": "e6dbfa58",
   "metadata": {},
   "outputs": [
    {
     "data": {
      "text/plain": [
       "Index(['ds', 'y'], dtype='object')"
      ]
     },
     "execution_count": 9,
     "metadata": {},
     "output_type": "execute_result"
    }
   ],
   "source": [
    "ta.columns"
   ]
  },
  {
   "cell_type": "code",
   "execution_count": 10,
   "id": "e892f205",
   "metadata": {},
   "outputs": [
    {
     "name": "stdout",
     "output_type": "stream",
     "text": [
      "Initial log joint probability = -83.1747\n",
      "    Iter      log prob        ||dx||      ||grad||       alpha      alpha0  # evals  Notes \n",
      "      99        128249     0.0016316       2365.78           1           1      129   \n",
      "    Iter      log prob        ||dx||      ||grad||       alpha      alpha0  # evals  Notes \n",
      "     199        128265    0.00175603       1190.45           1           1      238   \n",
      "    Iter      log prob        ||dx||      ||grad||       alpha      alpha0  # evals  Notes \n",
      "     299        128274    0.00548852       2569.84           1           1      346   \n",
      "    Iter      log prob        ||dx||      ||grad||       alpha      alpha0  # evals  Notes \n",
      "     399        128296   0.000261667       1272.03           1           1      459   \n",
      "    Iter      log prob        ||dx||      ||grad||       alpha      alpha0  # evals  Notes \n",
      "     499        128300   0.000973945       433.592      0.7889      0.7889      564   \n",
      "    Iter      log prob        ||dx||      ||grad||       alpha      alpha0  # evals  Notes \n",
      "     599     "
     ]
    },
    {
     "data": {
      "text/plain": [
       "<prophet.forecaster.Prophet at 0x7fcca65f2df0>"
      ]
     },
     "execution_count": 10,
     "metadata": {},
     "output_type": "execute_result"
    }
   ],
   "source": [
    "model = Prophet()\n",
    "model.fit(ta)"
   ]
  },
  {
   "cell_type": "code",
   "execution_count": 11,
   "id": "aed9858b",
   "metadata": {},
   "outputs": [],
   "source": [
    "# forecast = model.predict(future)\n",
    "# forecast[['ds', 'yhat', 'yhat_lower', 'yhat_upper']].tail()"
   ]
  },
  {
   "cell_type": "code",
   "execution_count": 12,
   "id": "b3e3f594",
   "metadata": {},
   "outputs": [
    {
     "name": "stdout",
     "output_type": "stream",
     "text": [
      "   128301    0.00463898       1438.07       2.603      0.2603      681   \n",
      "    Iter      log prob        ||dx||      ||grad||       alpha      alpha0  # evals  Notes \n",
      "     662        128303   0.000105366       95.9702           1           1      752   \n",
      "Optimization terminated normally: \n",
      "  Convergence detected: relative gradient magnitude is below tolerance\n"
     ]
    }
   ],
   "source": [
    "# model.plot(forecast)\n",
    "# plt.show()"
   ]
  },
  {
   "cell_type": "code",
   "execution_count": 13,
   "id": "01899840",
   "metadata": {},
   "outputs": [
    {
     "data": {
      "text/html": [
       "<div>\n",
       "<style scoped>\n",
       "    .dataframe tbody tr th:only-of-type {\n",
       "        vertical-align: middle;\n",
       "    }\n",
       "\n",
       "    .dataframe tbody tr th {\n",
       "        vertical-align: top;\n",
       "    }\n",
       "\n",
       "    .dataframe thead th {\n",
       "        text-align: right;\n",
       "    }\n",
       "</style>\n",
       "<table border=\"1\" class=\"dataframe\">\n",
       "  <thead>\n",
       "    <tr style=\"text-align: right;\">\n",
       "      <th></th>\n",
       "      <th>ds</th>\n",
       "      <th>yhat</th>\n",
       "      <th>yhat_lower</th>\n",
       "      <th>yhat_upper</th>\n",
       "    </tr>\n",
       "  </thead>\n",
       "  <tbody>\n",
       "    <tr>\n",
       "      <th>43796</th>\n",
       "      <td>2022-11-29 21:00:00</td>\n",
       "      <td>2.148179</td>\n",
       "      <td>-18.383725</td>\n",
       "      <td>23.516474</td>\n",
       "    </tr>\n",
       "    <tr>\n",
       "      <th>43797</th>\n",
       "      <td>2022-11-29 22:00:00</td>\n",
       "      <td>2.075719</td>\n",
       "      <td>-18.902496</td>\n",
       "      <td>22.886189</td>\n",
       "    </tr>\n",
       "    <tr>\n",
       "      <th>43798</th>\n",
       "      <td>2022-11-29 23:00:00</td>\n",
       "      <td>2.029025</td>\n",
       "      <td>-18.548902</td>\n",
       "      <td>23.364383</td>\n",
       "    </tr>\n",
       "    <tr>\n",
       "      <th>43799</th>\n",
       "      <td>2022-11-30 00:00:00</td>\n",
       "      <td>2.027191</td>\n",
       "      <td>-18.384796</td>\n",
       "      <td>23.037090</td>\n",
       "    </tr>\n",
       "    <tr>\n",
       "      <th>43800</th>\n",
       "      <td>2022-11-30 01:00:00</td>\n",
       "      <td>2.095603</td>\n",
       "      <td>-18.773486</td>\n",
       "      <td>22.936649</td>\n",
       "    </tr>\n",
       "  </tbody>\n",
       "</table>\n",
       "</div>"
      ],
      "text/plain": [
       "                       ds      yhat  yhat_lower  yhat_upper\n",
       "43796 2022-11-29 21:00:00  2.148179  -18.383725   23.516474\n",
       "43797 2022-11-29 22:00:00  2.075719  -18.902496   22.886189\n",
       "43798 2022-11-29 23:00:00  2.029025  -18.548902   23.364383\n",
       "43799 2022-11-30 00:00:00  2.027191  -18.384796   23.037090\n",
       "43800 2022-11-30 01:00:00  2.095603  -18.773486   22.936649"
      ]
     },
     "execution_count": 13,
     "metadata": {},
     "output_type": "execute_result"
    }
   ],
   "source": [
    "from dateutil import rrule\n",
    "from datetime import datetime, timedelta\n",
    "\n",
    "now = datetime(2017, 12, 1, 1, 0, 0)\n",
    "daysLater = now + timedelta(days=1825)\n",
    "\n",
    "future_dates = []\n",
    "for dt in rrule.rrule(rrule.HOURLY, dtstart=now, until=daysLater):\n",
    "    future_dates.append(dt)\n",
    "future_dates = pd.DataFrame(future_dates)\n",
    "future_dates.columns = ['ds']\n",
    "future_dates['ds'] = pd.to_datetime(future_dates['ds'])\n",
    "\n",
    "forecast = model.predict(future_dates)\n",
    "forecast[['ds', 'yhat', 'yhat_lower', 'yhat_upper']].tail()"
   ]
  },
  {
   "cell_type": "code",
   "execution_count": 14,
   "id": "2a47c51f",
   "metadata": {},
   "outputs": [
    {
     "data": {
      "image/png": "[encoded data removed]",
      "text/plain": [
       "<Figure size 720x432 with 1 Axes>"
      ]
     },
     "metadata": {},
     "output_type": "display_data"
    }
   ],
   "source": [
    "model.plot(forecast)\n",
    "plt.show()"
   ]
  },
  {
   "cell_type": "code",
   "execution_count": 15,
   "id": "0adac7ba",
   "metadata": {},
   "outputs": [
    {
     "name": "stdout",
     "output_type": "stream",
     "text": [
      "                       ds  yhat\n",
      "0     2017-12-01 01:00:00   1.6\n",
      "1     2017-12-01 02:00:00   1.7\n",
      "2     2017-12-01 03:00:00   1.9\n",
      "3     2017-12-01 04:00:00   2.0\n",
      "4     2017-12-01 05:00:00   2.1\n",
      "...                   ...   ...\n",
      "43796 2022-11-29 21:00:00   2.1\n",
      "43797 2022-11-29 22:00:00   2.1\n",
      "43798 2022-11-29 23:00:00   2.0\n",
      "43799 2022-11-30 00:00:00   2.0\n",
      "43800 2022-11-30 01:00:00   2.1\n",
      "\n",
      "[43801 rows x 2 columns]\n"
     ]
    }
   ],
   "source": [
    "forecast = forecast[['ds', 'yhat']]\n",
    "forecast['yhat'] = forecast['yhat'].round(1)\n",
    "print(forecast)"
   ]
  },
  {
   "cell_type": "code",
   "execution_count": 16,
   "id": "f5928c89",
   "metadata": {},
   "outputs": [],
   "source": [
    "compression_opts = dict(method = 'zip', archive_name = 'Wind Speed.csv')  \n",
    "forecast.to_csv('Wind Speed.zip', index = False, compression = compression_opts)"
   ]
  },
  {
   "cell_type": "code",
   "execution_count": null,
   "id": "857bc615",
   "metadata": {},
   "outputs": [],
   "source": []
  }
 ],
 "metadata": {
  "kernelspec": {
   "display_name": "Python 3 (ipykernel)",
   "language": "python",
   "name": "python3"
  },
  "language_info": {
   "codemirror_mode": {
    "name": "ipython",
    "version": 3
   },
   "file_extension": ".py",
   "mimetype": "text/x-python",
   "name": "python",
   "nbconvert_exporter": "python",
   "pygments_lexer": "ipython3",
   "version": "3.9.7"
  }
 },
 "nbformat": 4,
 "nbformat_minor": 5
}
